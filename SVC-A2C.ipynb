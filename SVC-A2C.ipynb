{
 "cells": [
  {
   "cell_type": "markdown",
   "metadata": {},
   "source": [
    "# Creating environments to simulate the SVC-A2C (Actor Critic Algorithm to Improve Smart Vacuum Cleanner)\n",
    "\n",
    "### Each environment will be a Matrix with m lines and n columns\n",
    "m = 100\n",
    "\n",
    "n = 100\n",
    "\n",
    "Each cell represent a space of $20 cm^2$\n",
    "\n",
    "The values that could be in cell are:\n",
    "\n",
    "* 0 --> free and clean space;\n",
    "* 1 --> free and low dirty\n",
    "* 2 --> free and high dirty\n",
    "* 3 --> Blocked space\n",
    "\n",
    "The environment have $400m^2$ ($20mx20m$)."
   ]
  },
  {
   "cell_type": "code",
   "execution_count": 1,
   "metadata": {},
   "outputs": [],
   "source": [
    "import numpy as np\n",
    "import gym\n",
    "import gym_svc_env"
   ]
  },
  {
   "cell_type": "code",
   "execution_count": 18,
   "metadata": {},
   "outputs": [
    {
     "data": {
      "text/plain": [
       "array([[[1, 1, 3, 3],\n",
       "        [1, 1, 1, 3],\n",
       "        [3, 0, 1, 3],\n",
       "        [1, 3, 0, 3],\n",
       "        [1, 1, 3, 3]],\n",
       "\n",
       "       [[1, 1, 3, 3],\n",
       "        [1, 1, 1, 3],\n",
       "        [1, 1, 1, 3],\n",
       "        [1, 1, 1, 3],\n",
       "        [1, 1, 3, 3]],\n",
       "\n",
       "       [[1, 1, 3, 3],\n",
       "        [0, 3, 1, 3],\n",
       "        [3, 1, 1, 3],\n",
       "        [1, 1, 1, 3],\n",
       "        [1, 1, 3, 3]],\n",
       "\n",
       "       [[3, 1, 1, 3],\n",
       "        [1, 1, 1, 3],\n",
       "        [1, 0, 1, 3],\n",
       "        [3, 3, 1, 3],\n",
       "        [1, 1, 3, 3]],\n",
       "\n",
       "       [[1, 1, 1, 3],\n",
       "        [1, 1, 1, 3],\n",
       "        [1, 1, 1, 3],\n",
       "        [3, 1, 1, 3],\n",
       "        [1, 3, 3, 3]]])"
      ]
     },
     "execution_count": 18,
     "metadata": {},
     "output_type": "execute_result"
    }
   ],
   "source": [
    "env = gym.make('svc-v0')\n",
    "env.reset()"
   ]
  },
  {
   "cell_type": "code",
   "execution_count": 25,
   "metadata": {},
   "outputs": [
    {
     "name": "stdout",
     "output_type": "stream",
     "text": [
      "(array([[[0, 1, 1, 3],\n",
      "        [0, 0, 1, 3],\n",
      "        [1, 1, 1, 3],\n",
      "        [0, 1, 3, 3],\n",
      "        [3, 1, 3, 3]],\n",
      "\n",
      "       [[1, 1, 3, 3],\n",
      "        [3, 1, 1, 3],\n",
      "        [1, 3, 1, 3],\n",
      "        [1, 0, 0, 3],\n",
      "        [1, 1, 3, 3]],\n",
      "\n",
      "       [[3, 3, 0, 3],\n",
      "        [1, 1, 3, 3],\n",
      "        [1, 2, 1, 3],\n",
      "        [1, 1, 3, 3],\n",
      "        [1, 1, 3, 3]],\n",
      "\n",
      "       [[1, 1, 0, 3],\n",
      "        [1, 1, 1, 3],\n",
      "        [1, 1, 3, 3],\n",
      "        [1, 1, 0, 3],\n",
      "        [1, 1, 3, 3]],\n",
      "\n",
      "       [[0, 1, 0, 3],\n",
      "        [1, 0, 1, 3],\n",
      "        [1, 0, 0, 3],\n",
      "        [3, 0, 2, 3],\n",
      "        [1, 2, 3, 3]]]), -0.2, False, {})\n",
      "[[3. 3. 3. ... 3. 3. 3.]\n",
      " [3. 1. 1. ... 1. 1. 3.]\n",
      " [3. 1. 3. ... 3. 0. 3.]\n",
      " ...\n",
      " [3. 1. 1. ... 1. 1. 3.]\n",
      " [3. 1. 1. ... 0. 1. 3.]\n",
      " [3. 3. 3. ... 3. 3. 3.]]\n",
      "[[0 0 1 0 3]\n",
      " [1 3 1 1 1]\n",
      " [3 1 1 1 1]\n",
      " [1 1 1 1 1]\n",
      " [0 1 1 3 1]]\n",
      "\n",
      "[[1 0 1 1 1]\n",
      " [1 1 3 0 1]\n",
      " [3 1 2 1 1]\n",
      " [1 1 1 1 1]\n",
      " [1 0 0 0 2]]\n",
      "\n",
      "[[1 1 1 3 3]\n",
      " [3 1 1 0 3]\n",
      " [0 3 1 3 3]\n",
      " [0 1 3 0 3]\n",
      " [0 1 0 2 3]]\n",
      "\n",
      "[[3 3 3 3 3]\n",
      " [3 3 3 3 3]\n",
      " [3 3 3 3 3]\n",
      " [3 3 3 3 3]\n",
      " [3 3 3 3 3]]\n",
      "\n"
     ]
    }
   ],
   "source": [
    "print(env.step(1))\n",
    "env.render()"
   ]
  },
  {
   "cell_type": "code",
   "execution_count": 21,
   "metadata": {},
   "outputs": [
    {
     "ename": "AssertionError",
     "evalue": "<bound method Discrete.sample of Discrete(5)> (<class 'method'>) invalid",
     "output_type": "error",
     "traceback": [
      "\u001b[0;31m---------------------------------------------------------------------------\u001b[0m",
      "\u001b[0;31mAssertionError\u001b[0m                            Traceback (most recent call last)",
      "\u001b[0;32m<ipython-input-21-db9ab89cdad5>\u001b[0m in \u001b[0;36m<module>\u001b[0;34m\u001b[0m\n\u001b[1;32m      1\u001b[0m \u001b[0menv\u001b[0m\u001b[0;34m.\u001b[0m\u001b[0mreset\u001b[0m\u001b[0;34m(\u001b[0m\u001b[0;34m)\u001b[0m\u001b[0;34m\u001b[0m\u001b[0;34m\u001b[0m\u001b[0m\n\u001b[0;32m----> 2\u001b[0;31m \u001b[0menv\u001b[0m\u001b[0;34m.\u001b[0m\u001b[0mstep\u001b[0m\u001b[0;34m(\u001b[0m\u001b[0menv\u001b[0m\u001b[0;34m.\u001b[0m\u001b[0maction_space\u001b[0m\u001b[0;34m.\u001b[0m\u001b[0msample\u001b[0m\u001b[0;34m)\u001b[0m\u001b[0;34m\u001b[0m\u001b[0;34m\u001b[0m\u001b[0m\n\u001b[0m",
      "\u001b[0;32m~/playground/SVC-A2C/simulator/gym-svc-env/gym_svc_env/envs/svc_env.py\u001b[0m in \u001b[0;36mstep\u001b[0;34m(self, action)\u001b[0m\n\u001b[1;32m     66\u001b[0m \u001b[0;34m\u001b[0m\u001b[0m\n\u001b[1;32m     67\u001b[0m   \u001b[0;32mdef\u001b[0m \u001b[0mstep\u001b[0m\u001b[0;34m(\u001b[0m\u001b[0mself\u001b[0m\u001b[0;34m,\u001b[0m \u001b[0maction\u001b[0m\u001b[0;34m)\u001b[0m\u001b[0;34m:\u001b[0m\u001b[0;34m\u001b[0m\u001b[0;34m\u001b[0m\u001b[0m\n\u001b[0;32m---> 68\u001b[0;31m     \u001b[0;32massert\u001b[0m \u001b[0mself\u001b[0m\u001b[0;34m.\u001b[0m\u001b[0maction_space\u001b[0m\u001b[0;34m.\u001b[0m\u001b[0mcontains\u001b[0m\u001b[0;34m(\u001b[0m\u001b[0maction\u001b[0m\u001b[0;34m)\u001b[0m\u001b[0;34m,\u001b[0m \u001b[0;34m\"%r (%s) invalid\"\u001b[0m\u001b[0;34m%\u001b[0m\u001b[0;34m(\u001b[0m\u001b[0maction\u001b[0m\u001b[0;34m,\u001b[0m \u001b[0mtype\u001b[0m\u001b[0;34m(\u001b[0m\u001b[0maction\u001b[0m\u001b[0;34m)\u001b[0m\u001b[0;34m)\u001b[0m\u001b[0;34m\u001b[0m\u001b[0;34m\u001b[0m\u001b[0m\n\u001b[0m\u001b[1;32m     69\u001b[0m     \u001b[0;32mif\u001b[0m \u001b[0mself\u001b[0m\u001b[0;34m.\u001b[0m\u001b[0mdone\u001b[0m\u001b[0;34m:\u001b[0m\u001b[0;34m\u001b[0m\u001b[0;34m\u001b[0m\u001b[0m\n\u001b[1;32m     70\u001b[0m       \u001b[0mlogger\u001b[0m\u001b[0;34m.\u001b[0m\u001b[0mwarn\u001b[0m\u001b[0;34m(\u001b[0m\u001b[0;34m\"You are calling 'step()' even though this environment has already returned done = True. You should always call 'reset()' once you receive 'done = True' -- any further steps are undefined behavior.\"\u001b[0m\u001b[0;34m)\u001b[0m\u001b[0;34m\u001b[0m\u001b[0;34m\u001b[0m\u001b[0m\n",
      "\u001b[0;31mAssertionError\u001b[0m: <bound method Discrete.sample of Discrete(5)> (<class 'method'>) invalid"
     ]
    }
   ],
   "source": [
    "env.reset()\n",
    "env.step(env.action_space.sample)"
   ]
  },
  {
   "cell_type": "code",
   "execution_count": 4,
   "metadata": {},
   "outputs": [],
   "source": [
    "env = gym.make('CartPole-v1')"
   ]
  },
  {
   "cell_type": "code",
   "execution_count": 63,
   "metadata": {},
   "outputs": [],
   "source": [
    "env.close()"
   ]
  }
 ],
 "metadata": {
  "kernelspec": {
   "display_name": "Python 3",
   "language": "python",
   "name": "python3"
  },
  "language_info": {
   "codemirror_mode": {
    "name": "ipython",
    "version": 3
   },
   "file_extension": ".py",
   "mimetype": "text/x-python",
   "name": "python",
   "nbconvert_exporter": "python",
   "pygments_lexer": "ipython3",
   "version": "3.6.8"
  }
 },
 "nbformat": 4,
 "nbformat_minor": 2
}
